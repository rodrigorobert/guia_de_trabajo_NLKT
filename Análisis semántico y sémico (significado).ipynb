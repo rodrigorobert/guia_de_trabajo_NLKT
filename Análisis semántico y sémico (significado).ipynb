{
 "cells": [
  {
   "cell_type": "code",
   "execution_count": null,
   "id": "8b3237d0",
   "metadata": {},
   "outputs": [],
   "source": [
    "# ANALISIS SEMANTICO"
   ]
  },
  {
   "cell_type": "code",
   "execution_count": null,
   "id": "fd18a8ab",
   "metadata": {},
   "outputs": [],
   "source": [
    "import spacy"
   ]
  },
  {
   "cell_type": "code",
   "execution_count": null,
   "id": "b5c6a82c",
   "metadata": {},
   "outputs": [],
   "source": [
    "nlp = spacy.load('es_core_news_lg')\n",
    "\n",
    "#nlp será un diccionario que converitra las oraciones y palabras en un vertor\n",
    "# de 300 numeros/dimensiones... con esos número trabajaremos"
   ]
  },
  {
   "cell_type": "code",
   "execution_count": null,
   "id": "3a3925e7",
   "metadata": {},
   "outputs": [],
   "source": [
    "#las dimensiones de una palabra\n",
    "\n",
    "nlp(u'tigre').vector"
   ]
  },
  {
   "cell_type": "code",
   "execution_count": null,
   "id": "03831f55",
   "metadata": {},
   "outputs": [],
   "source": [
    "#las dimensiones de una frase\n",
    "\n",
    "nlp(u'el elefante es grande').vector"
   ]
  },
  {
   "cell_type": "code",
   "execution_count": null,
   "id": "cff28973",
   "metadata": {},
   "outputs": [],
   "source": [
    "print(nlp(u'tigre').vector.shape)\n",
    "print(nlp(u'el elefante es grande').vector.shape)"
   ]
  },
  {
   "cell_type": "code",
   "execution_count": null,
   "id": "cad97639",
   "metadata": {},
   "outputs": [],
   "source": [
    "# comparar a nivel semantico\n",
    "\n",
    "palabras = nlp(u'tigre leopardo piedra')\n",
    "\n",
    "#sera un bucle doble para comparar de a pares\n",
    "\n",
    "for palabra1 in palabras:\n",
    "    for palabra2 in palabras:\n",
    "        print(palabra1.text, palabra2.text, palabra1.similarity(palabra2))"
   ]
  },
  {
   "cell_type": "code",
   "execution_count": null,
   "id": "c4ace53f",
   "metadata": {},
   "outputs": [],
   "source": [
    "#son 500.000 palabras con un vector de 300 cada uno\n",
    "nlp.vocab.vectors.shape"
   ]
  },
  {
   "cell_type": "code",
   "execution_count": null,
   "id": "28145a13",
   "metadata": {},
   "outputs": [],
   "source": [
    "#para analizar palabras\n",
    "\n",
    "pal = nlp(u'tigre leopardo cuchcahchius')\n",
    "\n",
    "for palabra in pal:\n",
    "    print(palabra.text, palabra.has_vector, palabra.vector_norm, palabra.is_oov)\n",
    "#el úoltimo me dice si existe en el diccionario"
   ]
  },
  {
   "cell_type": "code",
   "execution_count": 35,
   "id": "6564aa67",
   "metadata": {},
   "outputs": [],
   "source": [
    "# ANALISIS DE SIGNIFICADO\n",
    "\n",
    "#Analisis de textos SIN ETIQUETAS"
   ]
  },
  {
   "cell_type": "code",
   "execution_count": 36,
   "id": "5100fa0b",
   "metadata": {},
   "outputs": [],
   "source": [
    "import numpy as np\n",
    "import pandas as pd\n",
    "import nltk"
   ]
  },
  {
   "cell_type": "code",
   "execution_count": 37,
   "id": "3492e1a6",
   "metadata": {},
   "outputs": [
    {
     "name": "stderr",
     "output_type": "stream",
     "text": [
      "[nltk_data] Downloading package vader_lexicon to\n",
      "[nltk_data]     C:\\Users\\MegaTecnologia\\AppData\\Roaming\\nltk_data...\n",
      "[nltk_data]   Package vader_lexicon is already up-to-date!\n"
     ]
    },
    {
     "data": {
      "text/plain": [
       "True"
      ]
     },
     "execution_count": 37,
     "metadata": {},
     "output_type": "execute_result"
    }
   ],
   "source": [
    "nltk.download('vader_lexicon')"
   ]
  },
  {
   "cell_type": "code",
   "execution_count": 38,
   "id": "f4ea4295",
   "metadata": {},
   "outputs": [
    {
     "name": "stdout",
     "output_type": "stream",
     "text": [
      "C:\\Users\\MegaTecnologia\\Documents\\Udemy - Procesamiento del lenguaje natural con NLP y Python\\Datasets\n"
     ]
    }
   ],
   "source": [
    "cd C:\\Users\\MegaTecnologia\\Documents\\Udemy - Procesamiento del lenguaje natural con NLP y Python\\Datasets"
   ]
  },
  {
   "cell_type": "code",
   "execution_count": 39,
   "id": "68b9be1e",
   "metadata": {},
   "outputs": [],
   "source": [
    "datos = pd.read_csv('peliculas.tsv', sep='\\t')"
   ]
  },
  {
   "cell_type": "code",
   "execution_count": 40,
   "id": "bf24a700",
   "metadata": {},
   "outputs": [
    {
     "data": {
      "text/html": [
       "<div>\n",
       "<style scoped>\n",
       "    .dataframe tbody tr th:only-of-type {\n",
       "        vertical-align: middle;\n",
       "    }\n",
       "\n",
       "    .dataframe tbody tr th {\n",
       "        vertical-align: top;\n",
       "    }\n",
       "\n",
       "    .dataframe thead th {\n",
       "        text-align: right;\n",
       "    }\n",
       "</style>\n",
       "<table border=\"1\" class=\"dataframe\">\n",
       "  <thead>\n",
       "    <tr style=\"text-align: right;\">\n",
       "      <th></th>\n",
       "      <th>etiqueta</th>\n",
       "      <th>revision</th>\n",
       "    </tr>\n",
       "  </thead>\n",
       "  <tbody>\n",
       "    <tr>\n",
       "      <th>0</th>\n",
       "      <td>pos</td>\n",
       "      <td>the happy bastard's 30-second review \\r\\nbig d...</td>\n",
       "    </tr>\n",
       "    <tr>\n",
       "      <th>1</th>\n",
       "      <td>neg</td>\n",
       "      <td>hollywood never fails to astound me . \\r\\never...</td>\n",
       "    </tr>\n",
       "    <tr>\n",
       "      <th>2</th>\n",
       "      <td>neg</td>\n",
       "      <td>this is your definitive \" hollywood \" movie , ...</td>\n",
       "    </tr>\n",
       "    <tr>\n",
       "      <th>3</th>\n",
       "      <td>pos</td>\n",
       "      <td>for those of us who weren't yet born when the ...</td>\n",
       "    </tr>\n",
       "    <tr>\n",
       "      <th>4</th>\n",
       "      <td>pos</td>\n",
       "      <td>NaN</td>\n",
       "    </tr>\n",
       "  </tbody>\n",
       "</table>\n",
       "</div>"
      ],
      "text/plain": [
       "  etiqueta                                           revision\n",
       "0      pos  the happy bastard's 30-second review \\r\\nbig d...\n",
       "1      neg  hollywood never fails to astound me . \\r\\never...\n",
       "2      neg  this is your definitive \" hollywood \" movie , ...\n",
       "3      pos  for those of us who weren't yet born when the ...\n",
       "4      pos                                                NaN"
      ]
     },
     "execution_count": 40,
     "metadata": {},
     "output_type": "execute_result"
    }
   ],
   "source": [
    "datos.head()"
   ]
  },
  {
   "cell_type": "code",
   "execution_count": 42,
   "id": "a8810006",
   "metadata": {},
   "outputs": [
    {
     "data": {
      "text/plain": [
       "(1473, 2)"
      ]
     },
     "execution_count": 42,
     "metadata": {},
     "output_type": "execute_result"
    }
   ],
   "source": [
    "datos.shape"
   ]
  },
  {
   "cell_type": "code",
   "execution_count": null,
   "id": "944ef8df",
   "metadata": {},
   "outputs": [],
   "source": [
    "#DATA CLEANING"
   ]
  },
  {
   "cell_type": "code",
   "execution_count": 43,
   "id": "45706cca",
   "metadata": {},
   "outputs": [],
   "source": [
    "# Esto borra los NaN, pero no lo vacíos\n",
    "datos.dropna(inplace=True)"
   ]
  },
  {
   "cell_type": "code",
   "execution_count": 44,
   "id": "fe6f01cc",
   "metadata": {},
   "outputs": [],
   "source": [
    "# Esto borra los en blanco\n",
    "blancos = []\n",
    "\n",
    "for i,label,revision in datos.itertuples():\n",
    "    if revision.isspace():\n",
    "        blancos.append(i)"
   ]
  },
  {
   "cell_type": "code",
   "execution_count": 45,
   "id": "98ac5922",
   "metadata": {},
   "outputs": [
    {
     "data": {
      "text/plain": [
       "[11,\n",
       " 15,\n",
       " 147,\n",
       " 171,\n",
       " 177,\n",
       " 187,\n",
       " 207,\n",
       " 215,\n",
       " 291,\n",
       " 365,\n",
       " 497,\n",
       " 539,\n",
       " 679,\n",
       " 797,\n",
       " 1027,\n",
       " 1106,\n",
       " 1144,\n",
       " 1176,\n",
       " 1182,\n",
       " 1380,\n",
       " 1468]"
      ]
     },
     "execution_count": 45,
     "metadata": {},
     "output_type": "execute_result"
    }
   ],
   "source": [
    "blancos"
   ]
  },
  {
   "cell_type": "code",
   "execution_count": 46,
   "id": "fcef2fa1",
   "metadata": {},
   "outputs": [],
   "source": [
    "datos.drop(blancos, inplace=True)"
   ]
  },
  {
   "cell_type": "code",
   "execution_count": 47,
   "id": "04d340de",
   "metadata": {},
   "outputs": [
    {
     "data": {
      "text/plain": [
       "(1423, 2)"
      ]
     },
     "execution_count": 47,
     "metadata": {},
     "output_type": "execute_result"
    }
   ],
   "source": [
    "datos.shape"
   ]
  },
  {
   "cell_type": "code",
   "execution_count": null,
   "id": "333cf1aa",
   "metadata": {},
   "outputs": [],
   "source": [
    "#analisis de significado"
   ]
  },
  {
   "cell_type": "code",
   "execution_count": 48,
   "id": "b88e33ad",
   "metadata": {},
   "outputs": [],
   "source": [
    "from nltk.sentiment.vader import SentimentIntensityAnalyzer"
   ]
  },
  {
   "cell_type": "code",
   "execution_count": 49,
   "id": "87918dcc",
   "metadata": {},
   "outputs": [],
   "source": [
    "analizador = SentimentIntensityAnalyzer()"
   ]
  },
  {
   "cell_type": "code",
   "execution_count": 52,
   "id": "346c092f",
   "metadata": {},
   "outputs": [],
   "source": [
    "#crearemos una columna con el análisis... ese será nuesta etiqueta\n",
    "\n",
    "datos['analisis'] = datos['revision'].apply(lambda revision:analizador.polarity_scores(revision))"
   ]
  },
  {
   "cell_type": "code",
   "execution_count": 53,
   "id": "26fa410e",
   "metadata": {},
   "outputs": [
    {
     "data": {
      "text/html": [
       "<div>\n",
       "<style scoped>\n",
       "    .dataframe tbody tr th:only-of-type {\n",
       "        vertical-align: middle;\n",
       "    }\n",
       "\n",
       "    .dataframe tbody tr th {\n",
       "        vertical-align: top;\n",
       "    }\n",
       "\n",
       "    .dataframe thead th {\n",
       "        text-align: right;\n",
       "    }\n",
       "</style>\n",
       "<table border=\"1\" class=\"dataframe\">\n",
       "  <thead>\n",
       "    <tr style=\"text-align: right;\">\n",
       "      <th></th>\n",
       "      <th>etiqueta</th>\n",
       "      <th>revision</th>\n",
       "      <th>analisis</th>\n",
       "    </tr>\n",
       "  </thead>\n",
       "  <tbody>\n",
       "    <tr>\n",
       "      <th>0</th>\n",
       "      <td>pos</td>\n",
       "      <td>the happy bastard's 30-second review \\r\\nbig d...</td>\n",
       "      <td>{'neg': 0.061, 'neu': 0.755, 'pos': 0.183, 'co...</td>\n",
       "    </tr>\n",
       "    <tr>\n",
       "      <th>1</th>\n",
       "      <td>neg</td>\n",
       "      <td>hollywood never fails to astound me . \\r\\never...</td>\n",
       "      <td>{'neg': 0.135, 'neu': 0.766, 'pos': 0.099, 'co...</td>\n",
       "    </tr>\n",
       "    <tr>\n",
       "      <th>2</th>\n",
       "      <td>neg</td>\n",
       "      <td>this is your definitive \" hollywood \" movie , ...</td>\n",
       "      <td>{'neg': 0.056, 'neu': 0.817, 'pos': 0.127, 'co...</td>\n",
       "    </tr>\n",
       "    <tr>\n",
       "      <th>3</th>\n",
       "      <td>pos</td>\n",
       "      <td>for those of us who weren't yet born when the ...</td>\n",
       "      <td>{'neg': 0.052, 'neu': 0.807, 'pos': 0.141, 'co...</td>\n",
       "    </tr>\n",
       "    <tr>\n",
       "      <th>5</th>\n",
       "      <td>neg</td>\n",
       "      <td>there's a good , and timely , story trapped de...</td>\n",
       "      <td>{'neg': 0.172, 'neu': 0.707, 'pos': 0.121, 'co...</td>\n",
       "    </tr>\n",
       "  </tbody>\n",
       "</table>\n",
       "</div>"
      ],
      "text/plain": [
       "  etiqueta                                           revision  \\\n",
       "0      pos  the happy bastard's 30-second review \\r\\nbig d...   \n",
       "1      neg  hollywood never fails to astound me . \\r\\never...   \n",
       "2      neg  this is your definitive \" hollywood \" movie , ...   \n",
       "3      pos  for those of us who weren't yet born when the ...   \n",
       "5      neg  there's a good , and timely , story trapped de...   \n",
       "\n",
       "                                            analisis  \n",
       "0  {'neg': 0.061, 'neu': 0.755, 'pos': 0.183, 'co...  \n",
       "1  {'neg': 0.135, 'neu': 0.766, 'pos': 0.099, 'co...  \n",
       "2  {'neg': 0.056, 'neu': 0.817, 'pos': 0.127, 'co...  \n",
       "3  {'neg': 0.052, 'neu': 0.807, 'pos': 0.141, 'co...  \n",
       "5  {'neg': 0.172, 'neu': 0.707, 'pos': 0.121, 'co...  "
      ]
     },
     "execution_count": 53,
     "metadata": {},
     "output_type": "execute_result"
    }
   ],
   "source": [
    "datos.head()"
   ]
  },
  {
   "cell_type": "code",
   "execution_count": 54,
   "id": "0604f487",
   "metadata": {},
   "outputs": [
    {
     "data": {
      "text/plain": [
       "{'neg': 0.135, 'neu': 0.766, 'pos': 0.099, 'compound': -0.9926}"
      ]
     },
     "execution_count": 54,
     "metadata": {},
     "output_type": "execute_result"
    }
   ],
   "source": [
    "datos['analisis'][1] #esta sería la valoración del dato 1"
   ]
  },
  {
   "cell_type": "code",
   "execution_count": 56,
   "id": "d92d6b75",
   "metadata": {},
   "outputs": [],
   "source": [
    "#lo mejor es trabajar con el compound... que es una sintesis de las 3 variables,\n",
    "#por eso le vamos a poner en una columan aparte\n",
    "\n",
    "datos['resultados'] = datos['analisis'].apply(lambda d : d['compound'])\n"
   ]
  },
  {
   "cell_type": "code",
   "execution_count": 57,
   "id": "5374c0c5",
   "metadata": {},
   "outputs": [
    {
     "data": {
      "text/html": [
       "<div>\n",
       "<style scoped>\n",
       "    .dataframe tbody tr th:only-of-type {\n",
       "        vertical-align: middle;\n",
       "    }\n",
       "\n",
       "    .dataframe tbody tr th {\n",
       "        vertical-align: top;\n",
       "    }\n",
       "\n",
       "    .dataframe thead th {\n",
       "        text-align: right;\n",
       "    }\n",
       "</style>\n",
       "<table border=\"1\" class=\"dataframe\">\n",
       "  <thead>\n",
       "    <tr style=\"text-align: right;\">\n",
       "      <th></th>\n",
       "      <th>etiqueta</th>\n",
       "      <th>revision</th>\n",
       "      <th>analisis</th>\n",
       "      <th>resultados</th>\n",
       "    </tr>\n",
       "  </thead>\n",
       "  <tbody>\n",
       "    <tr>\n",
       "      <th>0</th>\n",
       "      <td>pos</td>\n",
       "      <td>the happy bastard's 30-second review \\r\\nbig d...</td>\n",
       "      <td>{'neg': 0.061, 'neu': 0.755, 'pos': 0.183, 'co...</td>\n",
       "      <td>0.9957</td>\n",
       "    </tr>\n",
       "    <tr>\n",
       "      <th>1</th>\n",
       "      <td>neg</td>\n",
       "      <td>hollywood never fails to astound me . \\r\\never...</td>\n",
       "      <td>{'neg': 0.135, 'neu': 0.766, 'pos': 0.099, 'co...</td>\n",
       "      <td>-0.9926</td>\n",
       "    </tr>\n",
       "    <tr>\n",
       "      <th>2</th>\n",
       "      <td>neg</td>\n",
       "      <td>this is your definitive \" hollywood \" movie , ...</td>\n",
       "      <td>{'neg': 0.056, 'neu': 0.817, 'pos': 0.127, 'co...</td>\n",
       "      <td>0.9877</td>\n",
       "    </tr>\n",
       "    <tr>\n",
       "      <th>3</th>\n",
       "      <td>pos</td>\n",
       "      <td>for those of us who weren't yet born when the ...</td>\n",
       "      <td>{'neg': 0.052, 'neu': 0.807, 'pos': 0.141, 'co...</td>\n",
       "      <td>0.9954</td>\n",
       "    </tr>\n",
       "    <tr>\n",
       "      <th>5</th>\n",
       "      <td>neg</td>\n",
       "      <td>there's a good , and timely , story trapped de...</td>\n",
       "      <td>{'neg': 0.172, 'neu': 0.707, 'pos': 0.121, 'co...</td>\n",
       "      <td>-0.9721</td>\n",
       "    </tr>\n",
       "    <tr>\n",
       "      <th>6</th>\n",
       "      <td>neg</td>\n",
       "      <td>the original _babe_ was my favorite movie of 1...</td>\n",
       "      <td>{'neg': 0.1, 'neu': 0.744, 'pos': 0.156, 'comp...</td>\n",
       "      <td>0.9970</td>\n",
       "    </tr>\n",
       "    <tr>\n",
       "      <th>7</th>\n",
       "      <td>pos</td>\n",
       "      <td>while screen adaptations of john irving's nove...</td>\n",
       "      <td>{'neg': 0.025, 'neu': 0.852, 'pos': 0.124, 'co...</td>\n",
       "      <td>0.9917</td>\n",
       "    </tr>\n",
       "    <tr>\n",
       "      <th>8</th>\n",
       "      <td>pos</td>\n",
       "      <td>taking a few tips from the pulp fiction school...</td>\n",
       "      <td>{'neg': 0.09, 'neu': 0.718, 'pos': 0.191, 'com...</td>\n",
       "      <td>0.9963</td>\n",
       "    </tr>\n",
       "    <tr>\n",
       "      <th>9</th>\n",
       "      <td>pos</td>\n",
       "      <td>no , it is not a bad film , in fact it is so g...</td>\n",
       "      <td>{'neg': 0.087, 'neu': 0.776, 'pos': 0.137, 'co...</td>\n",
       "      <td>0.9845</td>\n",
       "    </tr>\n",
       "    <tr>\n",
       "      <th>10</th>\n",
       "      <td>pos</td>\n",
       "      <td>clint eastwood , in his ripe old age , is cash...</td>\n",
       "      <td>{'neg': 0.097, 'neu': 0.677, 'pos': 0.226, 'co...</td>\n",
       "      <td>0.9975</td>\n",
       "    </tr>\n",
       "  </tbody>\n",
       "</table>\n",
       "</div>"
      ],
      "text/plain": [
       "   etiqueta                                           revision  \\\n",
       "0       pos  the happy bastard's 30-second review \\r\\nbig d...   \n",
       "1       neg  hollywood never fails to astound me . \\r\\never...   \n",
       "2       neg  this is your definitive \" hollywood \" movie , ...   \n",
       "3       pos  for those of us who weren't yet born when the ...   \n",
       "5       neg  there's a good , and timely , story trapped de...   \n",
       "6       neg  the original _babe_ was my favorite movie of 1...   \n",
       "7       pos  while screen adaptations of john irving's nove...   \n",
       "8       pos  taking a few tips from the pulp fiction school...   \n",
       "9       pos  no , it is not a bad film , in fact it is so g...   \n",
       "10      pos  clint eastwood , in his ripe old age , is cash...   \n",
       "\n",
       "                                             analisis  resultados  \n",
       "0   {'neg': 0.061, 'neu': 0.755, 'pos': 0.183, 'co...      0.9957  \n",
       "1   {'neg': 0.135, 'neu': 0.766, 'pos': 0.099, 'co...     -0.9926  \n",
       "2   {'neg': 0.056, 'neu': 0.817, 'pos': 0.127, 'co...      0.9877  \n",
       "3   {'neg': 0.052, 'neu': 0.807, 'pos': 0.141, 'co...      0.9954  \n",
       "5   {'neg': 0.172, 'neu': 0.707, 'pos': 0.121, 'co...     -0.9721  \n",
       "6   {'neg': 0.1, 'neu': 0.744, 'pos': 0.156, 'comp...      0.9970  \n",
       "7   {'neg': 0.025, 'neu': 0.852, 'pos': 0.124, 'co...      0.9917  \n",
       "8   {'neg': 0.09, 'neu': 0.718, 'pos': 0.191, 'com...      0.9963  \n",
       "9   {'neg': 0.087, 'neu': 0.776, 'pos': 0.137, 'co...      0.9845  \n",
       "10  {'neg': 0.097, 'neu': 0.677, 'pos': 0.226, 'co...      0.9975  "
      ]
     },
     "execution_count": 57,
     "metadata": {},
     "output_type": "execute_result"
    }
   ],
   "source": [
    "datos.head(10)"
   ]
  },
  {
   "cell_type": "code",
   "execution_count": 62,
   "id": "1434a8d3",
   "metadata": {},
   "outputs": [],
   "source": [
    "#ahora los valores numericos los pasaremos a valores de etiquetas, veremos además\n",
    "# si coinciden con las etiquetas\n",
    "\n",
    "datos['prediccion'] = datos['resultados'].apply(lambda resultados: 'pos' if resultados >= 0 else 'neg')"
   ]
  },
  {
   "cell_type": "code",
   "execution_count": 63,
   "id": "f1f29e98",
   "metadata": {},
   "outputs": [
    {
     "data": {
      "text/html": [
       "<div>\n",
       "<style scoped>\n",
       "    .dataframe tbody tr th:only-of-type {\n",
       "        vertical-align: middle;\n",
       "    }\n",
       "\n",
       "    .dataframe tbody tr th {\n",
       "        vertical-align: top;\n",
       "    }\n",
       "\n",
       "    .dataframe thead th {\n",
       "        text-align: right;\n",
       "    }\n",
       "</style>\n",
       "<table border=\"1\" class=\"dataframe\">\n",
       "  <thead>\n",
       "    <tr style=\"text-align: right;\">\n",
       "      <th></th>\n",
       "      <th>etiqueta</th>\n",
       "      <th>revision</th>\n",
       "      <th>analisis</th>\n",
       "      <th>resultados</th>\n",
       "      <th>prediccion</th>\n",
       "    </tr>\n",
       "  </thead>\n",
       "  <tbody>\n",
       "    <tr>\n",
       "      <th>0</th>\n",
       "      <td>pos</td>\n",
       "      <td>the happy bastard's 30-second review \\r\\nbig d...</td>\n",
       "      <td>{'neg': 0.061, 'neu': 0.755, 'pos': 0.183, 'co...</td>\n",
       "      <td>0.9957</td>\n",
       "      <td>pos</td>\n",
       "    </tr>\n",
       "    <tr>\n",
       "      <th>1</th>\n",
       "      <td>neg</td>\n",
       "      <td>hollywood never fails to astound me . \\r\\never...</td>\n",
       "      <td>{'neg': 0.135, 'neu': 0.766, 'pos': 0.099, 'co...</td>\n",
       "      <td>-0.9926</td>\n",
       "      <td>neg</td>\n",
       "    </tr>\n",
       "    <tr>\n",
       "      <th>2</th>\n",
       "      <td>neg</td>\n",
       "      <td>this is your definitive \" hollywood \" movie , ...</td>\n",
       "      <td>{'neg': 0.056, 'neu': 0.817, 'pos': 0.127, 'co...</td>\n",
       "      <td>0.9877</td>\n",
       "      <td>pos</td>\n",
       "    </tr>\n",
       "    <tr>\n",
       "      <th>3</th>\n",
       "      <td>pos</td>\n",
       "      <td>for those of us who weren't yet born when the ...</td>\n",
       "      <td>{'neg': 0.052, 'neu': 0.807, 'pos': 0.141, 'co...</td>\n",
       "      <td>0.9954</td>\n",
       "      <td>pos</td>\n",
       "    </tr>\n",
       "    <tr>\n",
       "      <th>5</th>\n",
       "      <td>neg</td>\n",
       "      <td>there's a good , and timely , story trapped de...</td>\n",
       "      <td>{'neg': 0.172, 'neu': 0.707, 'pos': 0.121, 'co...</td>\n",
       "      <td>-0.9721</td>\n",
       "      <td>neg</td>\n",
       "    </tr>\n",
       "    <tr>\n",
       "      <th>6</th>\n",
       "      <td>neg</td>\n",
       "      <td>the original _babe_ was my favorite movie of 1...</td>\n",
       "      <td>{'neg': 0.1, 'neu': 0.744, 'pos': 0.156, 'comp...</td>\n",
       "      <td>0.9970</td>\n",
       "      <td>pos</td>\n",
       "    </tr>\n",
       "    <tr>\n",
       "      <th>7</th>\n",
       "      <td>pos</td>\n",
       "      <td>while screen adaptations of john irving's nove...</td>\n",
       "      <td>{'neg': 0.025, 'neu': 0.852, 'pos': 0.124, 'co...</td>\n",
       "      <td>0.9917</td>\n",
       "      <td>pos</td>\n",
       "    </tr>\n",
       "    <tr>\n",
       "      <th>8</th>\n",
       "      <td>pos</td>\n",
       "      <td>taking a few tips from the pulp fiction school...</td>\n",
       "      <td>{'neg': 0.09, 'neu': 0.718, 'pos': 0.191, 'com...</td>\n",
       "      <td>0.9963</td>\n",
       "      <td>pos</td>\n",
       "    </tr>\n",
       "    <tr>\n",
       "      <th>9</th>\n",
       "      <td>pos</td>\n",
       "      <td>no , it is not a bad film , in fact it is so g...</td>\n",
       "      <td>{'neg': 0.087, 'neu': 0.776, 'pos': 0.137, 'co...</td>\n",
       "      <td>0.9845</td>\n",
       "      <td>pos</td>\n",
       "    </tr>\n",
       "    <tr>\n",
       "      <th>10</th>\n",
       "      <td>pos</td>\n",
       "      <td>clint eastwood , in his ripe old age , is cash...</td>\n",
       "      <td>{'neg': 0.097, 'neu': 0.677, 'pos': 0.226, 'co...</td>\n",
       "      <td>0.9975</td>\n",
       "      <td>pos</td>\n",
       "    </tr>\n",
       "  </tbody>\n",
       "</table>\n",
       "</div>"
      ],
      "text/plain": [
       "   etiqueta                                           revision  \\\n",
       "0       pos  the happy bastard's 30-second review \\r\\nbig d...   \n",
       "1       neg  hollywood never fails to astound me . \\r\\never...   \n",
       "2       neg  this is your definitive \" hollywood \" movie , ...   \n",
       "3       pos  for those of us who weren't yet born when the ...   \n",
       "5       neg  there's a good , and timely , story trapped de...   \n",
       "6       neg  the original _babe_ was my favorite movie of 1...   \n",
       "7       pos  while screen adaptations of john irving's nove...   \n",
       "8       pos  taking a few tips from the pulp fiction school...   \n",
       "9       pos  no , it is not a bad film , in fact it is so g...   \n",
       "10      pos  clint eastwood , in his ripe old age , is cash...   \n",
       "\n",
       "                                             analisis  resultados prediccion  \n",
       "0   {'neg': 0.061, 'neu': 0.755, 'pos': 0.183, 'co...      0.9957        pos  \n",
       "1   {'neg': 0.135, 'neu': 0.766, 'pos': 0.099, 'co...     -0.9926        neg  \n",
       "2   {'neg': 0.056, 'neu': 0.817, 'pos': 0.127, 'co...      0.9877        pos  \n",
       "3   {'neg': 0.052, 'neu': 0.807, 'pos': 0.141, 'co...      0.9954        pos  \n",
       "5   {'neg': 0.172, 'neu': 0.707, 'pos': 0.121, 'co...     -0.9721        neg  \n",
       "6   {'neg': 0.1, 'neu': 0.744, 'pos': 0.156, 'comp...      0.9970        pos  \n",
       "7   {'neg': 0.025, 'neu': 0.852, 'pos': 0.124, 'co...      0.9917        pos  \n",
       "8   {'neg': 0.09, 'neu': 0.718, 'pos': 0.191, 'com...      0.9963        pos  \n",
       "9   {'neg': 0.087, 'neu': 0.776, 'pos': 0.137, 'co...      0.9845        pos  \n",
       "10  {'neg': 0.097, 'neu': 0.677, 'pos': 0.226, 'co...      0.9975        pos  "
      ]
     },
     "execution_count": 63,
     "metadata": {},
     "output_type": "execute_result"
    }
   ],
   "source": [
    "datos.head(10)"
   ]
  },
  {
   "cell_type": "code",
   "execution_count": 65,
   "id": "4cb1c338",
   "metadata": {},
   "outputs": [],
   "source": [
    "#para verificar si lo hizo bien\n",
    "\n",
    "from sklearn.metrics import accuracy_score, classification_report, confusion_matrix"
   ]
  },
  {
   "cell_type": "code",
   "execution_count": 67,
   "id": "8a382382",
   "metadata": {},
   "outputs": [
    {
     "data": {
      "text/plain": [
       "0.6394940267041461"
      ]
     },
     "execution_count": 67,
     "metadata": {},
     "output_type": "execute_result"
    }
   ],
   "source": [
    "accuracy_score(datos['etiqueta'], datos['prediccion'])"
   ]
  },
  {
   "cell_type": "code",
   "execution_count": 68,
   "id": "3ef95bc7",
   "metadata": {},
   "outputs": [
    {
     "name": "stdout",
     "output_type": "stream",
     "text": [
      "              precision    recall  f1-score   support\n",
      "\n",
      "         neg       0.74      0.44      0.55       717\n",
      "         pos       0.60      0.85      0.70       706\n",
      "\n",
      "    accuracy                           0.64      1423\n",
      "   macro avg       0.67      0.64      0.62      1423\n",
      "weighted avg       0.67      0.64      0.62      1423\n",
      "\n"
     ]
    }
   ],
   "source": [
    "print(classification_report(datos['etiqueta'], datos['prediccion']))"
   ]
  },
  {
   "cell_type": "code",
   "execution_count": 69,
   "id": "276c0894",
   "metadata": {},
   "outputs": [
    {
     "name": "stdout",
     "output_type": "stream",
     "text": [
      "[[313 404]\n",
      " [109 597]]\n"
     ]
    }
   ],
   "source": [
    "print(confusion_matrix(datos['etiqueta'], datos['prediccion']))"
   ]
  },
  {
   "cell_type": "code",
   "execution_count": null,
   "id": "f5b3b4b1",
   "metadata": {},
   "outputs": [],
   "source": []
  },
  {
   "cell_type": "code",
   "execution_count": null,
   "id": "9736be99",
   "metadata": {},
   "outputs": [],
   "source": []
  },
  {
   "cell_type": "code",
   "execution_count": null,
   "id": "4166b9f9",
   "metadata": {},
   "outputs": [],
   "source": []
  },
  {
   "cell_type": "code",
   "execution_count": null,
   "id": "35aecd32",
   "metadata": {},
   "outputs": [],
   "source": []
  }
 ],
 "metadata": {
  "kernelspec": {
   "display_name": "Python 3 (ipykernel)",
   "language": "python",
   "name": "python3"
  },
  "language_info": {
   "codemirror_mode": {
    "name": "ipython",
    "version": 3
   },
   "file_extension": ".py",
   "mimetype": "text/x-python",
   "name": "python",
   "nbconvert_exporter": "python",
   "pygments_lexer": "ipython3",
   "version": "3.9.7"
  }
 },
 "nbformat": 4,
 "nbformat_minor": 5
}
